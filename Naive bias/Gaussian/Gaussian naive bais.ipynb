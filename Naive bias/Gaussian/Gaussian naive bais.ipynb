{
 "cells": [
  {
   "cell_type": "code",
   "execution_count": 25,
   "id": "362ab975",
   "metadata": {},
   "outputs": [],
   "source": [
    "import pandas as pd\n",
    "import numpy as np\n",
    "from sklearn.model_selection import train_test_split\n",
    "from sklearn.preprocessing import StandardScaler, OneHotEncoder\n",
    "from sklearn.compose import ColumnTransformer\n",
    "from sklearn.pipeline import Pipeline\n",
    "from sklearn.impute import SimpleImputer\n",
    "from sklearn.naive_bayes import GaussianNB\n",
    "from sklearn.metrics import roc_auc_score"
   ]
  },
  {
   "cell_type": "code",
   "execution_count": 2,
   "id": "7ef6db95",
   "metadata": {},
   "outputs": [],
   "source": [
    "train_features = pd.read_csv('training_set_features.csv')\n",
    "test_features = pd.read_csv('test_set_features.csv')\n",
    "train_labels = pd.read_csv('training_set_labels.csv')"
   ]
  },
  {
   "cell_type": "code",
   "execution_count": 3,
   "id": "39d4d742",
   "metadata": {},
   "outputs": [],
   "source": [
    "train_data = pd.merge(train_features, train_labels, on='respondent_id')"
   ]
  },
  {
   "cell_type": "code",
   "execution_count": 4,
   "id": "6a1836fa",
   "metadata": {},
   "outputs": [],
   "source": [
    "target_columns = ['xyz_vaccine', 'seasonal_vaccine']\n",
    "X = train_data.drop(columns=['respondent_id'] + target_columns)\n",
    "y = train_data[target_columns]"
   ]
  },
  {
   "cell_type": "code",
   "execution_count": 5,
   "id": "80bdf481",
   "metadata": {},
   "outputs": [],
   "source": [
    "categorical_cols=train_data.select_dtypes(include=['object']).columns\n",
    "ordinal_cols = ['xyz_concern', 'xyz_knowledge', 'opinion_xyz_vacc_effective', 'opinion_xyz_risk',\n",
    "                'opinion_xyz_sick_from_vacc', 'opinion_seas_vacc_effective', 'opinion_seas_risk',\n",
    "                'opinion_seas_sick_from_vacc']\n",
    "binary_cols = ['behavioral_antiviral_meds','behavioral_avoidance','behavioral_face_mask','behavioral_wash_hands',\n",
    "             'behavioral_large_gatherings','behavioral_outside_home','behavioral_touch_face','doctor_recc_xyz',\n",
    "             'doctor_recc_seasonal','chronic_med_condition','child_under_6_months','health_worker','health_insurance']"
   ]
  },
  {
   "cell_type": "code",
   "execution_count": 6,
   "id": "8a3439ab",
   "metadata": {},
   "outputs": [],
   "source": [
    "transform = ColumnTransformer(\n",
    "    transformers=[\n",
    "        ('num', SimpleImputer(strategy='median'), binary_cols + ordinal_cols),\n",
    "        ('cat', Pipeline(steps=[\n",
    "            ('imputer', SimpleImputer(strategy='most_frequent')),\n",
    "            ('onehot', OneHotEncoder(handle_unknown='ignore'))\n",
    "        ]), categorical_cols)\n",
    "    ])"
   ]
  },
  {
   "cell_type": "code",
   "execution_count": 7,
   "id": "ff5db4bb",
   "metadata": {},
   "outputs": [],
   "source": [
    "gaussian_nb = GaussianNB()"
   ]
  },
  {
   "cell_type": "code",
   "execution_count": 8,
   "id": "935c57b2",
   "metadata": {},
   "outputs": [],
   "source": [
    "X_train, X_test, y_train, y_test = train_test_split(X, y, test_size=0.2, random_state=42)"
   ]
  },
  {
   "cell_type": "code",
   "execution_count": 9,
   "id": "eb987b1c",
   "metadata": {},
   "outputs": [],
   "source": [
    "y_train1 = y_train['xyz_vaccine']\n",
    "y_train2 = y_train['seasonal_vaccine']"
   ]
  },
  {
   "cell_type": "code",
   "execution_count": 10,
   "id": "8a957495",
   "metadata": {},
   "outputs": [],
   "source": [
    "y_test1 = y_test['xyz_vaccine']\n",
    "y_test2 = y_test['seasonal_vaccine']"
   ]
  },
  {
   "cell_type": "code",
   "execution_count": 15,
   "id": "91e570ec",
   "metadata": {},
   "outputs": [],
   "source": [
    "pipeline_gaussian = Pipeline(steps=[\n",
    "    ('transform', transform),\n",
    "    ('scaler', StandardScaler()),\n",
    "    ('classifier', gaussian_nb)\n",
    "])"
   ]
  },
  {
   "cell_type": "code",
   "execution_count": 16,
   "id": "8587b697",
   "metadata": {},
   "outputs": [
    {
     "data": {
      "text/html": [
       "<style>#sk-container-id-1 {color: black;}#sk-container-id-1 pre{padding: 0;}#sk-container-id-1 div.sk-toggleable {background-color: white;}#sk-container-id-1 label.sk-toggleable__label {cursor: pointer;display: block;width: 100%;margin-bottom: 0;padding: 0.3em;box-sizing: border-box;text-align: center;}#sk-container-id-1 label.sk-toggleable__label-arrow:before {content: \"▸\";float: left;margin-right: 0.25em;color: #696969;}#sk-container-id-1 label.sk-toggleable__label-arrow:hover:before {color: black;}#sk-container-id-1 div.sk-estimator:hover label.sk-toggleable__label-arrow:before {color: black;}#sk-container-id-1 div.sk-toggleable__content {max-height: 0;max-width: 0;overflow: hidden;text-align: left;background-color: #f0f8ff;}#sk-container-id-1 div.sk-toggleable__content pre {margin: 0.2em;color: black;border-radius: 0.25em;background-color: #f0f8ff;}#sk-container-id-1 input.sk-toggleable__control:checked~div.sk-toggleable__content {max-height: 200px;max-width: 100%;overflow: auto;}#sk-container-id-1 input.sk-toggleable__control:checked~label.sk-toggleable__label-arrow:before {content: \"▾\";}#sk-container-id-1 div.sk-estimator input.sk-toggleable__control:checked~label.sk-toggleable__label {background-color: #d4ebff;}#sk-container-id-1 div.sk-label input.sk-toggleable__control:checked~label.sk-toggleable__label {background-color: #d4ebff;}#sk-container-id-1 input.sk-hidden--visually {border: 0;clip: rect(1px 1px 1px 1px);clip: rect(1px, 1px, 1px, 1px);height: 1px;margin: -1px;overflow: hidden;padding: 0;position: absolute;width: 1px;}#sk-container-id-1 div.sk-estimator {font-family: monospace;background-color: #f0f8ff;border: 1px dotted black;border-radius: 0.25em;box-sizing: border-box;margin-bottom: 0.5em;}#sk-container-id-1 div.sk-estimator:hover {background-color: #d4ebff;}#sk-container-id-1 div.sk-parallel-item::after {content: \"\";width: 100%;border-bottom: 1px solid gray;flex-grow: 1;}#sk-container-id-1 div.sk-label:hover label.sk-toggleable__label {background-color: #d4ebff;}#sk-container-id-1 div.sk-serial::before {content: \"\";position: absolute;border-left: 1px solid gray;box-sizing: border-box;top: 0;bottom: 0;left: 50%;z-index: 0;}#sk-container-id-1 div.sk-serial {display: flex;flex-direction: column;align-items: center;background-color: white;padding-right: 0.2em;padding-left: 0.2em;position: relative;}#sk-container-id-1 div.sk-item {position: relative;z-index: 1;}#sk-container-id-1 div.sk-parallel {display: flex;align-items: stretch;justify-content: center;background-color: white;position: relative;}#sk-container-id-1 div.sk-item::before, #sk-container-id-1 div.sk-parallel-item::before {content: \"\";position: absolute;border-left: 1px solid gray;box-sizing: border-box;top: 0;bottom: 0;left: 50%;z-index: -1;}#sk-container-id-1 div.sk-parallel-item {display: flex;flex-direction: column;z-index: 1;position: relative;background-color: white;}#sk-container-id-1 div.sk-parallel-item:first-child::after {align-self: flex-end;width: 50%;}#sk-container-id-1 div.sk-parallel-item:last-child::after {align-self: flex-start;width: 50%;}#sk-container-id-1 div.sk-parallel-item:only-child::after {width: 0;}#sk-container-id-1 div.sk-dashed-wrapped {border: 1px dashed gray;margin: 0 0.4em 0.5em 0.4em;box-sizing: border-box;padding-bottom: 0.4em;background-color: white;}#sk-container-id-1 div.sk-label label {font-family: monospace;font-weight: bold;display: inline-block;line-height: 1.2em;}#sk-container-id-1 div.sk-label-container {text-align: center;}#sk-container-id-1 div.sk-container {/* jupyter's `normalize.less` sets `[hidden] { display: none; }` but bootstrap.min.css set `[hidden] { display: none !important; }` so we also need the `!important` here to be able to override the default hidden behavior on the sphinx rendered scikit-learn.org. See: https://github.com/scikit-learn/scikit-learn/issues/21755 */display: inline-block !important;position: relative;}#sk-container-id-1 div.sk-text-repr-fallback {display: none;}</style><div id=\"sk-container-id-1\" class=\"sk-top-container\"><div class=\"sk-text-repr-fallback\"><pre>Pipeline(steps=[(&#x27;transform&#x27;,\n",
       "                 ColumnTransformer(transformers=[(&#x27;num&#x27;,\n",
       "                                                  SimpleImputer(strategy=&#x27;median&#x27;),\n",
       "                                                  [&#x27;behavioral_antiviral_meds&#x27;,\n",
       "                                                   &#x27;behavioral_avoidance&#x27;,\n",
       "                                                   &#x27;behavioral_face_mask&#x27;,\n",
       "                                                   &#x27;behavioral_wash_hands&#x27;,\n",
       "                                                   &#x27;behavioral_large_gatherings&#x27;,\n",
       "                                                   &#x27;behavioral_outside_home&#x27;,\n",
       "                                                   &#x27;behavioral_touch_face&#x27;,\n",
       "                                                   &#x27;doctor_recc_xyz&#x27;,\n",
       "                                                   &#x27;doctor_recc_seasonal&#x27;,\n",
       "                                                   &#x27;chronic_med_condition&#x27;,\n",
       "                                                   &#x27;chil...\n",
       "                                                                   SimpleImputer(strategy=&#x27;most_frequent&#x27;)),\n",
       "                                                                  (&#x27;onehot&#x27;,\n",
       "                                                                   OneHotEncoder(handle_unknown=&#x27;ignore&#x27;))]),\n",
       "                                                  Index([&#x27;age_group&#x27;, &#x27;education&#x27;, &#x27;race&#x27;, &#x27;sex&#x27;, &#x27;income_poverty&#x27;,\n",
       "       &#x27;marital_status&#x27;, &#x27;rent_or_own&#x27;, &#x27;employment_status&#x27;, &#x27;hhs_geo_region&#x27;,\n",
       "       &#x27;census_msa&#x27;, &#x27;employment_industry&#x27;, &#x27;employment_occupation&#x27;],\n",
       "      dtype=&#x27;object&#x27;))])),\n",
       "                (&#x27;scaler&#x27;, StandardScaler()), (&#x27;classifier&#x27;, GaussianNB())])</pre><b>In a Jupyter environment, please rerun this cell to show the HTML representation or trust the notebook. <br />On GitHub, the HTML representation is unable to render, please try loading this page with nbviewer.org.</b></div><div class=\"sk-container\" hidden><div class=\"sk-item sk-dashed-wrapped\"><div class=\"sk-label-container\"><div class=\"sk-label sk-toggleable\"><input class=\"sk-toggleable__control sk-hidden--visually\" id=\"sk-estimator-id-1\" type=\"checkbox\" ><label for=\"sk-estimator-id-1\" class=\"sk-toggleable__label sk-toggleable__label-arrow\">Pipeline</label><div class=\"sk-toggleable__content\"><pre>Pipeline(steps=[(&#x27;transform&#x27;,\n",
       "                 ColumnTransformer(transformers=[(&#x27;num&#x27;,\n",
       "                                                  SimpleImputer(strategy=&#x27;median&#x27;),\n",
       "                                                  [&#x27;behavioral_antiviral_meds&#x27;,\n",
       "                                                   &#x27;behavioral_avoidance&#x27;,\n",
       "                                                   &#x27;behavioral_face_mask&#x27;,\n",
       "                                                   &#x27;behavioral_wash_hands&#x27;,\n",
       "                                                   &#x27;behavioral_large_gatherings&#x27;,\n",
       "                                                   &#x27;behavioral_outside_home&#x27;,\n",
       "                                                   &#x27;behavioral_touch_face&#x27;,\n",
       "                                                   &#x27;doctor_recc_xyz&#x27;,\n",
       "                                                   &#x27;doctor_recc_seasonal&#x27;,\n",
       "                                                   &#x27;chronic_med_condition&#x27;,\n",
       "                                                   &#x27;chil...\n",
       "                                                                   SimpleImputer(strategy=&#x27;most_frequent&#x27;)),\n",
       "                                                                  (&#x27;onehot&#x27;,\n",
       "                                                                   OneHotEncoder(handle_unknown=&#x27;ignore&#x27;))]),\n",
       "                                                  Index([&#x27;age_group&#x27;, &#x27;education&#x27;, &#x27;race&#x27;, &#x27;sex&#x27;, &#x27;income_poverty&#x27;,\n",
       "       &#x27;marital_status&#x27;, &#x27;rent_or_own&#x27;, &#x27;employment_status&#x27;, &#x27;hhs_geo_region&#x27;,\n",
       "       &#x27;census_msa&#x27;, &#x27;employment_industry&#x27;, &#x27;employment_occupation&#x27;],\n",
       "      dtype=&#x27;object&#x27;))])),\n",
       "                (&#x27;scaler&#x27;, StandardScaler()), (&#x27;classifier&#x27;, GaussianNB())])</pre></div></div></div><div class=\"sk-serial\"><div class=\"sk-item sk-dashed-wrapped\"><div class=\"sk-label-container\"><div class=\"sk-label sk-toggleable\"><input class=\"sk-toggleable__control sk-hidden--visually\" id=\"sk-estimator-id-2\" type=\"checkbox\" ><label for=\"sk-estimator-id-2\" class=\"sk-toggleable__label sk-toggleable__label-arrow\">transform: ColumnTransformer</label><div class=\"sk-toggleable__content\"><pre>ColumnTransformer(transformers=[(&#x27;num&#x27;, SimpleImputer(strategy=&#x27;median&#x27;),\n",
       "                                 [&#x27;behavioral_antiviral_meds&#x27;,\n",
       "                                  &#x27;behavioral_avoidance&#x27;,\n",
       "                                  &#x27;behavioral_face_mask&#x27;,\n",
       "                                  &#x27;behavioral_wash_hands&#x27;,\n",
       "                                  &#x27;behavioral_large_gatherings&#x27;,\n",
       "                                  &#x27;behavioral_outside_home&#x27;,\n",
       "                                  &#x27;behavioral_touch_face&#x27;, &#x27;doctor_recc_xyz&#x27;,\n",
       "                                  &#x27;doctor_recc_seasonal&#x27;,\n",
       "                                  &#x27;chronic_med_condition&#x27;,\n",
       "                                  &#x27;child_under_6_months&#x27;, &#x27;health_wor...\n",
       "                                  &#x27;opinion_seas_sick_from_vacc&#x27;]),\n",
       "                                (&#x27;cat&#x27;,\n",
       "                                 Pipeline(steps=[(&#x27;imputer&#x27;,\n",
       "                                                  SimpleImputer(strategy=&#x27;most_frequent&#x27;)),\n",
       "                                                 (&#x27;onehot&#x27;,\n",
       "                                                  OneHotEncoder(handle_unknown=&#x27;ignore&#x27;))]),\n",
       "                                 Index([&#x27;age_group&#x27;, &#x27;education&#x27;, &#x27;race&#x27;, &#x27;sex&#x27;, &#x27;income_poverty&#x27;,\n",
       "       &#x27;marital_status&#x27;, &#x27;rent_or_own&#x27;, &#x27;employment_status&#x27;, &#x27;hhs_geo_region&#x27;,\n",
       "       &#x27;census_msa&#x27;, &#x27;employment_industry&#x27;, &#x27;employment_occupation&#x27;],\n",
       "      dtype=&#x27;object&#x27;))])</pre></div></div></div><div class=\"sk-parallel\"><div class=\"sk-parallel-item\"><div class=\"sk-item\"><div class=\"sk-label-container\"><div class=\"sk-label sk-toggleable\"><input class=\"sk-toggleable__control sk-hidden--visually\" id=\"sk-estimator-id-3\" type=\"checkbox\" ><label for=\"sk-estimator-id-3\" class=\"sk-toggleable__label sk-toggleable__label-arrow\">num</label><div class=\"sk-toggleable__content\"><pre>[&#x27;behavioral_antiviral_meds&#x27;, &#x27;behavioral_avoidance&#x27;, &#x27;behavioral_face_mask&#x27;, &#x27;behavioral_wash_hands&#x27;, &#x27;behavioral_large_gatherings&#x27;, &#x27;behavioral_outside_home&#x27;, &#x27;behavioral_touch_face&#x27;, &#x27;doctor_recc_xyz&#x27;, &#x27;doctor_recc_seasonal&#x27;, &#x27;chronic_med_condition&#x27;, &#x27;child_under_6_months&#x27;, &#x27;health_worker&#x27;, &#x27;health_insurance&#x27;, &#x27;xyz_concern&#x27;, &#x27;xyz_knowledge&#x27;, &#x27;opinion_xyz_vacc_effective&#x27;, &#x27;opinion_xyz_risk&#x27;, &#x27;opinion_xyz_sick_from_vacc&#x27;, &#x27;opinion_seas_vacc_effective&#x27;, &#x27;opinion_seas_risk&#x27;, &#x27;opinion_seas_sick_from_vacc&#x27;]</pre></div></div></div><div class=\"sk-serial\"><div class=\"sk-item\"><div class=\"sk-estimator sk-toggleable\"><input class=\"sk-toggleable__control sk-hidden--visually\" id=\"sk-estimator-id-4\" type=\"checkbox\" ><label for=\"sk-estimator-id-4\" class=\"sk-toggleable__label sk-toggleable__label-arrow\">SimpleImputer</label><div class=\"sk-toggleable__content\"><pre>SimpleImputer(strategy=&#x27;median&#x27;)</pre></div></div></div></div></div></div><div class=\"sk-parallel-item\"><div class=\"sk-item\"><div class=\"sk-label-container\"><div class=\"sk-label sk-toggleable\"><input class=\"sk-toggleable__control sk-hidden--visually\" id=\"sk-estimator-id-5\" type=\"checkbox\" ><label for=\"sk-estimator-id-5\" class=\"sk-toggleable__label sk-toggleable__label-arrow\">cat</label><div class=\"sk-toggleable__content\"><pre>Index([&#x27;age_group&#x27;, &#x27;education&#x27;, &#x27;race&#x27;, &#x27;sex&#x27;, &#x27;income_poverty&#x27;,\n",
       "       &#x27;marital_status&#x27;, &#x27;rent_or_own&#x27;, &#x27;employment_status&#x27;, &#x27;hhs_geo_region&#x27;,\n",
       "       &#x27;census_msa&#x27;, &#x27;employment_industry&#x27;, &#x27;employment_occupation&#x27;],\n",
       "      dtype=&#x27;object&#x27;)</pre></div></div></div><div class=\"sk-serial\"><div class=\"sk-item\"><div class=\"sk-serial\"><div class=\"sk-item\"><div class=\"sk-estimator sk-toggleable\"><input class=\"sk-toggleable__control sk-hidden--visually\" id=\"sk-estimator-id-6\" type=\"checkbox\" ><label for=\"sk-estimator-id-6\" class=\"sk-toggleable__label sk-toggleable__label-arrow\">SimpleImputer</label><div class=\"sk-toggleable__content\"><pre>SimpleImputer(strategy=&#x27;most_frequent&#x27;)</pre></div></div></div><div class=\"sk-item\"><div class=\"sk-estimator sk-toggleable\"><input class=\"sk-toggleable__control sk-hidden--visually\" id=\"sk-estimator-id-7\" type=\"checkbox\" ><label for=\"sk-estimator-id-7\" class=\"sk-toggleable__label sk-toggleable__label-arrow\">OneHotEncoder</label><div class=\"sk-toggleable__content\"><pre>OneHotEncoder(handle_unknown=&#x27;ignore&#x27;)</pre></div></div></div></div></div></div></div></div></div></div><div class=\"sk-item\"><div class=\"sk-estimator sk-toggleable\"><input class=\"sk-toggleable__control sk-hidden--visually\" id=\"sk-estimator-id-8\" type=\"checkbox\" ><label for=\"sk-estimator-id-8\" class=\"sk-toggleable__label sk-toggleable__label-arrow\">StandardScaler</label><div class=\"sk-toggleable__content\"><pre>StandardScaler()</pre></div></div></div><div class=\"sk-item\"><div class=\"sk-estimator sk-toggleable\"><input class=\"sk-toggleable__control sk-hidden--visually\" id=\"sk-estimator-id-9\" type=\"checkbox\" ><label for=\"sk-estimator-id-9\" class=\"sk-toggleable__label sk-toggleable__label-arrow\">GaussianNB</label><div class=\"sk-toggleable__content\"><pre>GaussianNB()</pre></div></div></div></div></div></div></div>"
      ],
      "text/plain": [
       "Pipeline(steps=[('transform',\n",
       "                 ColumnTransformer(transformers=[('num',\n",
       "                                                  SimpleImputer(strategy='median'),\n",
       "                                                  ['behavioral_antiviral_meds',\n",
       "                                                   'behavioral_avoidance',\n",
       "                                                   'behavioral_face_mask',\n",
       "                                                   'behavioral_wash_hands',\n",
       "                                                   'behavioral_large_gatherings',\n",
       "                                                   'behavioral_outside_home',\n",
       "                                                   'behavioral_touch_face',\n",
       "                                                   'doctor_recc_xyz',\n",
       "                                                   'doctor_recc_seasonal',\n",
       "                                                   'chronic_med_condition',\n",
       "                                                   'chil...\n",
       "                                                                   SimpleImputer(strategy='most_frequent')),\n",
       "                                                                  ('onehot',\n",
       "                                                                   OneHotEncoder(handle_unknown='ignore'))]),\n",
       "                                                  Index(['age_group', 'education', 'race', 'sex', 'income_poverty',\n",
       "       'marital_status', 'rent_or_own', 'employment_status', 'hhs_geo_region',\n",
       "       'census_msa', 'employment_industry', 'employment_occupation'],\n",
       "      dtype='object'))])),\n",
       "                ('scaler', StandardScaler()), ('classifier', GaussianNB())])"
      ]
     },
     "execution_count": 16,
     "metadata": {},
     "output_type": "execute_result"
    }
   ],
   "source": [
    "pipeline_gaussian.fit(X_train, y_train1)\n",
    "pipeline_gaussian.fit(X_train, y_train2)"
   ]
  },
  {
   "cell_type": "code",
   "execution_count": 17,
   "id": "aec1b70f",
   "metadata": {},
   "outputs": [],
   "source": [
    "gaussian_y_xyz = pipeline_gaussian.predict(X_test)\n",
    "gaussian_y_seasonal = pipeline_gaussian.predict(X_test)"
   ]
  },
  {
   "cell_type": "code",
   "execution_count": 18,
   "id": "57c6af91",
   "metadata": {},
   "outputs": [],
   "source": [
    "gaussian_roc_auc_xyz = roc_auc_score(y_test1, gaussian_y_xyz)\n",
    "gaussian_roc_auc_seasonal = roc_auc_score(y_test2, gaussian_y_seasonal)\n",
    "mean_roc_auc_gaussian = (gaussian_roc_auc_xyz + gaussian_roc_auc_seasonal) / 2"
   ]
  },
  {
   "cell_type": "code",
   "execution_count": 19,
   "id": "fc115c72",
   "metadata": {},
   "outputs": [
    {
     "name": "stdout",
     "output_type": "stream",
     "text": [
      "ROC AUC for xyz_vaccine: 0.5970116985603712\n",
      "ROC AUC for seasonal_vaccine: 0.6592488456910055\n",
      "Mean ROC AUC: 0.6281302721256883\n"
     ]
    }
   ],
   "source": [
    "print(f\"ROC AUC for xyz_vaccine: {gaussian_roc_auc_xyz}\")\n",
    "print(f\"ROC AUC for seasonal_vaccine: {gaussian_roc_auc_seasonal}\")\n",
    "print(f\"Mean ROC AUC: {mean_roc_auc_gaussian}\")"
   ]
  },
  {
   "cell_type": "code",
   "execution_count": 20,
   "id": "a05a6141",
   "metadata": {},
   "outputs": [],
   "source": [
    "for_pred = test_features.drop(columns=['respondent_id'])"
   ]
  },
  {
   "cell_type": "code",
   "execution_count": 22,
   "id": "dd2b9c1e",
   "metadata": {},
   "outputs": [],
   "source": [
    "xyz_pred = pipeline_gaussian.predict_proba(for_pred)[:,0]\n",
    "seasonal_pred = pipeline_gaussian.predict_proba(for_pred)[:,1]"
   ]
  },
  {
   "cell_type": "code",
   "execution_count": 23,
   "id": "463f3d7d",
   "metadata": {},
   "outputs": [],
   "source": [
    "submission2 = pd.DataFrame({\n",
    "    'respondent_id': test_features['respondent_id'],\n",
    "    'xyz_vaccine': xyz_pred,\n",
    "    'seasonal_vaccine': seasonal_pred\n",
    "})"
   ]
  },
  {
   "cell_type": "code",
   "execution_count": 26,
   "id": "f2875bc5",
   "metadata": {},
   "outputs": [],
   "source": [
    "submission2.to_csv('submission2.csv', index=False)"
   ]
  },
  {
   "cell_type": "code",
   "execution_count": null,
   "id": "e53a4124",
   "metadata": {},
   "outputs": [],
   "source": []
  }
 ],
 "metadata": {
  "kernelspec": {
   "display_name": "Python 3 (ipykernel)",
   "language": "python",
   "name": "python3"
  },
  "language_info": {
   "codemirror_mode": {
    "name": "ipython",
    "version": 3
   },
   "file_extension": ".py",
   "mimetype": "text/x-python",
   "name": "python",
   "nbconvert_exporter": "python",
   "pygments_lexer": "ipython3",
   "version": "3.11.5"
  }
 },
 "nbformat": 4,
 "nbformat_minor": 5
}
